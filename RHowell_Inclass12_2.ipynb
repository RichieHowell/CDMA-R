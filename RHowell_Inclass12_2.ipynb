{
 "metadata": {
  "name": "",
  "signature": "sha256:6e59ebad6faa4b12e9f78e364fb369ebfa1df89d57fcb46cffb64bb9a3a13a23"
 },
 "nbformat": 3,
 "nbformat_minor": 0,
 "worksheets": [
  {
   "cells": [
    {
     "cell_type": "code",
     "collapsed": false,
     "input": [
      "!pip install beautifulsoup4"
     ],
     "language": "python",
     "metadata": {},
     "outputs": [
      {
       "output_type": "stream",
       "stream": "stdout",
       "text": [
        "Requirement already satisfied (use --upgrade to upgrade): beautifulsoup4 in c:\\users\\richie howell\\appdata\\local\\enthought\\canopy\\user\\lib\\site-packages\n",
        "Cleaning up...\n"
       ]
      }
     ],
     "prompt_number": 5
    },
    {
     "cell_type": "code",
     "collapsed": false,
     "input": [
      "from bs4 import BeautifulSoup as bs"
     ],
     "language": "python",
     "metadata": {},
     "outputs": [],
     "prompt_number": 6
    },
    {
     "cell_type": "code",
     "collapsed": false,
     "input": [
      "import requests\n",
      "#gonna look at the buy page for my favorite book\n",
      "r = requests.get(\"http://www.amazon.com/Way-Kings-Stormlight-Archive-Book-ebook/dp/B003P2WO5E/ref=sr_1_1?ie=UTF8&qid=1417414158&sr=8-1&keywords=brandon+sanderson\")\n",
      "data = r.text\n",
      "#create the soup object\n",
      "soup = bs(data)"
     ],
     "language": "python",
     "metadata": {},
     "outputs": [],
     "prompt_number": 23
    },
    {
     "cell_type": "code",
     "collapsed": false,
     "input": [
      "#get a list of all the urls\n",
      "urls = [link.get('href') for link in soup.find_all('a')]"
     ],
     "language": "python",
     "metadata": {},
     "outputs": [],
     "prompt_number": 28
    },
    {
     "cell_type": "code",
     "collapsed": false,
     "input": [
      "#make a pandas dataframe with the urls\n",
      "import pandas as pd\n",
      "pa = pd.DataFrame(urls, columns = ['links'])"
     ],
     "language": "python",
     "metadata": {},
     "outputs": [],
     "prompt_number": 25
    },
    {
     "cell_type": "code",
     "collapsed": false,
     "input": [
      "#we are gonna find all the review links on the page\n",
      "l = soup.find_all(class_=\"txtlarge gl3 gr4 reviewTitle valignMiddle\")\n",
      "url_review = [link.get('href') for link in l]\n",
      "url_review_DF = pd.DataFrame(url_review, columns=['reviews'])"
     ],
     "language": "python",
     "metadata": {},
     "outputs": [],
     "prompt_number": 32
    },
    {
     "cell_type": "code",
     "collapsed": false,
     "input": [],
     "language": "python",
     "metadata": {},
     "outputs": []
    }
   ],
   "metadata": {}
  }
 ]
}